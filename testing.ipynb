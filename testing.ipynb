{
 "cells": [
  {
   "cell_type": "code",
   "execution_count": null,
   "id": "b4f97ee0-755e-4126-8c07-3393100926a8",
   "metadata": {},
   "outputs": [],
   "source": [
    "%load_ext autoreload\n",
    "\n",
    "%autoreload 2"
   ]
  },
  {
   "cell_type": "code",
   "execution_count": null,
   "id": "5453ee7e-660e-48b9-823e-4b9e7943bfbc",
   "metadata": {},
   "outputs": [],
   "source": [
    "from ajedrez import Game"
   ]
  },
  {
   "cell_type": "code",
   "execution_count": null,
   "id": "4e909bb6-7f79-4996-9622-4b7ca3b573e3",
   "metadata": {},
   "outputs": [],
   "source": [
    "%%time\n",
    "\n",
    "game = Game.from_fen()"
   ]
  },
  {
   "cell_type": "code",
   "execution_count": null,
   "id": "f1895f98-bf84-423e-9dd6-01281b62a5ba",
   "metadata": {},
   "outputs": [],
   "source": [
    "game"
   ]
  },
  {
   "cell_type": "code",
   "execution_count": null,
   "id": "f258f3bf-8698-447c-b9ab-c6724e09315a",
   "metadata": {},
   "outputs": [],
   "source": [
    "game.board.simple_heuristic()"
   ]
  },
  {
   "cell_type": "code",
   "execution_count": null,
   "id": "8429d4af-11f5-4cc4-9b3a-15557b2de155",
   "metadata": {},
   "outputs": [],
   "source": [
    "import pandas as pd\n",
    "from IPython.display import display\n",
    "\n",
    "for m, g in game.available_moves():\n",
    "    print(m)\n",
    "    print()\n",
    "    display(pd.DataFrame(g.board.piece_placement))\n",
    "    print()\n",
    "    print(g.board.stats)\n",
    "    print(f'{g.board.turn=}')\n",
    "    print(f'{g.board.casteling=}')\n",
    "    print(f'{g.board.en_passant=}')\n",
    "    print(f'{g.board.half_moves=}')\n",
    "    print(f'{g.board.move_number=}')\n",
    "    print(g.board.location_to_piece)"
   ]
  },
  {
   "cell_type": "code",
   "execution_count": null,
   "id": "92310a46-ea98-4597-8cf7-28a003d803b8",
   "metadata": {},
   "outputs": [],
   "source": [
    "%%time\n",
    "\n",
    "for m, g in game.available_moves():\n",
    "    print(m)"
   ]
  },
  {
   "cell_type": "code",
   "execution_count": null,
   "id": "ef0f84f6-a83f-48f0-9e52-c95290b967e2",
   "metadata": {},
   "outputs": [],
   "source": []
  }
 ],
 "metadata": {
  "kernelspec": {
   "display_name": "Python 3 (ipykernel)",
   "language": "python",
   "name": "python3"
  },
  "language_info": {
   "codemirror_mode": {
    "name": "ipython",
    "version": 3
   },
   "file_extension": ".py",
   "mimetype": "text/x-python",
   "name": "python",
   "nbconvert_exporter": "python",
   "pygments_lexer": "ipython3",
   "version": "3.10.15"
  }
 },
 "nbformat": 4,
 "nbformat_minor": 5
}
